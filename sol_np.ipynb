{
 "cells": [
  {
   "cell_type": "code",
   "execution_count": 1,
   "id": "2f004115-cb49-4eef-b352-a4208af3beb0",
   "metadata": {},
   "outputs": [],
   "source": [
    "import pandas as pd\n",
    "import numpy as np\n",
    "import matplotlib.pyplot as plt\n",
    "import seaborn as sns\n",
    "from IPython.display import display"
   ]
  },
  {
   "cell_type": "code",
   "execution_count": 5,
   "id": "bb1d3153-8f34-44ac-88cc-411fdf055d7f",
   "metadata": {},
   "outputs": [
    {
     "data": {
      "text/plain": [
       "array([[62, 45, 33],\n",
       "       [37, 15, 46],\n",
       "       [92, 52, 96],\n",
       "       [64, 48, 46]])"
      ]
     },
     "metadata": {},
     "output_type": "display_data"
    },
    {
     "data": {
      "text/plain": [
       "'sum'"
      ]
     },
     "metadata": {},
     "output_type": "display_data"
    },
    {
     "data": {
      "text/plain": [
       "636"
      ]
     },
     "metadata": {},
     "output_type": "display_data"
    },
    {
     "data": {
      "text/plain": [
       "'sum row'"
      ]
     },
     "metadata": {},
     "output_type": "display_data"
    },
    {
     "data": {
      "text/plain": [
       "array([140,  98, 240, 158])"
      ]
     },
     "metadata": {},
     "output_type": "display_data"
    },
    {
     "data": {
      "text/plain": [
       "'sum col'"
      ]
     },
     "metadata": {},
     "output_type": "display_data"
    },
    {
     "data": {
      "text/plain": [
       "array([255, 160, 221])"
      ]
     },
     "metadata": {},
     "output_type": "display_data"
    }
   ],
   "source": [
    "# 1\n",
    "# Create a NumPy array of size 4x3 and filled with random numbers from 10 to\n",
    "# 98 (inclusive). Calculate the sum of all elements, \n",
    "# the sum of each row and\n",
    "# each column.\n",
    "\n",
    "arr = np.random.randint(10, 98 + 1, (4, 3))\n",
    "display(arr)\n",
    "display('sum', arr.sum())\n",
    "display('sum row', arr.sum(axis=1))\n",
    "display('sum col', arr.sum(axis=0))"
   ]
  },
  {
   "cell_type": "code",
   "execution_count": 19,
   "id": "f5901cbe-ffbf-43f1-bb79-b08a9239d40d",
   "metadata": {},
   "outputs": [
    {
     "data": {
      "text/plain": [
       "array([[ 9,  4,  5,  2,  3,  2, 10, 10,  9, 10]])"
      ]
     },
     "metadata": {},
     "output_type": "display_data"
    },
    {
     "data": {
      "text/plain": [
       "array([ 4,  2,  2, 10, 10, 10])"
      ]
     },
     "metadata": {},
     "output_type": "display_data"
    },
    {
     "data": {
      "text/plain": [
       "6"
      ]
     },
     "metadata": {},
     "output_type": "display_data"
    },
    {
     "data": {
      "text/plain": [
       "6"
      ]
     },
     "metadata": {},
     "output_type": "display_data"
    },
    {
     "data": {
      "text/plain": [
       "6"
      ]
     },
     "metadata": {},
     "output_type": "display_data"
    }
   ],
   "source": [
    "# 2\n",
    "# Create a NumPy array of size 10 filled with random numbers from 0 to 10.\n",
    "# Count how many of them are even numbers.\n",
    "\n",
    "arr = np.random.randint(0, 10 + 1, (1, 10))\n",
    "display(arr)\n",
    "display(arr[arr % 2 == 0])\n",
    "display((arr % 2 == 0).sum())\n",
    "display(len(arr[arr % 2 == 0]))\n",
    "display(arr[arr % 2 == 0].size)"
   ]
  },
  {
   "cell_type": "code",
   "execution_count": 27,
   "id": "860036a7-f703-481f-a657-14e14804c8de",
   "metadata": {},
   "outputs": [
    {
     "data": {
      "text/plain": [
       "array([[ 0,  1,  2,  3,  4,  5,  6,  7,  8,  9],\n",
       "       [10, 11, 12, 13, 14, 15, 16, 17, 18, 19],\n",
       "       [20, 21, 22, 23, 24, 25, 26, 27, 28, 29],\n",
       "       [30, 31, 32, 33, 34, 35, 36, 37, 38, 39],\n",
       "       [40, 41, 42, 43, 44, 45, 46, 47, 48, 49],\n",
       "       [50, -1, -1, -1, -1, -1, -1, -1, -1, -1],\n",
       "       [-1, -1, -1, -1, -1, -1, -1, -1, -1, -1],\n",
       "       [-1, -1, -1, -1, -1, -1, -1, -1, -1, -1],\n",
       "       [-1, -1, -1, -1, -1, -1, -1, -1, -1, -1],\n",
       "       [-1, -1, -1, -1, -1, -1, -1, -1, -1, -1]])"
      ]
     },
     "metadata": {},
     "output_type": "display_data"
    },
    {
     "data": {
      "text/plain": [
       "1226"
      ]
     },
     "metadata": {},
     "output_type": "display_data"
    },
    {
     "data": {
      "text/plain": [
       "12.26"
      ]
     },
     "metadata": {},
     "output_type": "display_data"
    }
   ],
   "source": [
    "# 3\n",
    "# Create a NumPy array of size 100, filled with a sequence of numbers from 0\n",
    "# to 99.\n",
    "# 2. Reshape this array into 10 rows and 10 columns.\n",
    "# 3. Replace all values in the array which are greater than 50 with -1.\n",
    "# 4. Calculate the sum of all elements in the array.\n",
    "# 5. Calculate the mean of all elements in the array\n",
    "\n",
    "arr = np.arange(0, 99 + 1)\n",
    "arr = arr.reshape(10, 10)  # arr.resize(10, 10)\n",
    "arr[arr > 50] = -1\n",
    "display(arr)\n",
    "display(arr.sum())\n",
    "display(arr.mean())"
   ]
  },
  {
   "cell_type": "code",
   "execution_count": 32,
   "id": "2530f524-4389-4aa8-b8f6-1fa205ba87ee",
   "metadata": {},
   "outputs": [
    {
     "data": {
      "text/plain": [
       "array([  0.        ,  11.11111111,  22.22222222,  33.33333333,\n",
       "        44.44444444,  55.55555556,  66.66666667,  77.77777778,\n",
       "        88.88888889, 100.        ])"
      ]
     },
     "metadata": {},
     "output_type": "display_data"
    },
    {
     "data": {
      "text/plain": [
       "array([  0.        ,  11.11111111,  55.55555556,  66.66666667,\n",
       "        77.77777778,  88.88888889, 100.        ])"
      ]
     },
     "metadata": {},
     "output_type": "display_data"
    },
    {
     "data": {
      "text/plain": [
       "array([[  0.        ],\n",
       "       [ 11.11111111],\n",
       "       [ 55.55555556],\n",
       "       [ 66.66666667],\n",
       "       [ 77.77777778],\n",
       "       [ 88.88888889],\n",
       "       [100.        ]])"
      ]
     },
     "execution_count": 32,
     "metadata": {},
     "output_type": "execute_result"
    }
   ],
   "source": [
    "# 4\n",
    "# 1. Create an array of 10 elements with numbers between 0 -100 with the same\n",
    "# space between each element.\n",
    "# 2. Generate a new array that has all values from the previous array that are\n",
    "# greater than 50 or lower than 20.\n",
    "# 3. Reshape the array to a matrix array possible, (for example if its possible to\n",
    "# reshape the array to 4X3 matrix generate it)\n",
    "\n",
    "arr = np.linspace(0, 100, 10)\n",
    "display(arr)\n",
    "arr = arr[(arr > 50) | (arr < 20)]\n",
    "display(arr)\n",
    "arr.resize(7, 1)\n",
    "arr"
   ]
  },
  {
   "cell_type": "code",
   "execution_count": 39,
   "id": "63f86ab7-996c-4d91-b374-aee65de4e805",
   "metadata": {},
   "outputs": [
    {
     "data": {
      "text/plain": [
       "array([[ 28,   0,   0,   0],\n",
       "       [  0, 100,   0,   0],\n",
       "       [  0,   0, 100,   0],\n",
       "       [  0,   0,   0,  49]])"
      ]
     },
     "execution_count": 39,
     "metadata": {},
     "output_type": "execute_result"
    }
   ],
   "source": [
    "# 5\n",
    "# Generate a matrix of 4x4 filled with 0, make sure the type of them is int type.\n",
    "# 2. Change the first element, the last element and the center element to a\n",
    "# different random value between 10 - 100.\n",
    "arr = np.zeros((4, 4), dtype=int)\n",
    "arr[0, 0] = np.random.randint(0, 100 + 1)\n",
    "arr[1, 1] = arr[2, 2] = np.random.randint(0, 100 + 1)\n",
    "arr[3, 3] = np.random.randint(0, 100 + 1)\n",
    "arr.shape # 2, 2\n",
    "arr"
   ]
  }
 ],
 "metadata": {
  "kernelspec": {
   "display_name": "Python 3 (ipykernel)",
   "language": "python",
   "name": "python3"
  },
  "language_info": {
   "codemirror_mode": {
    "name": "ipython",
    "version": 3
   },
   "file_extension": ".py",
   "mimetype": "text/x-python",
   "name": "python",
   "nbconvert_exporter": "python",
   "pygments_lexer": "ipython3",
   "version": "3.11.7"
  }
 },
 "nbformat": 4,
 "nbformat_minor": 5
}
